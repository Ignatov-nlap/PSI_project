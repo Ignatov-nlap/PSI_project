{
 "cells": [
  {
   "cell_type": "code",
   "execution_count": null,
   "metadata": {
    "collapsed": false
   },
   "outputs": [],
   "source": [
    "from scipy.sparse.linalg import minres, LinearOperator\n",
    "import numpy as np \n",
    "\n",
    "global d1,d2,d3\n",
    "\n",
    "def matvec(x):\n",
    "    global d1,d2,d3\n",
    "    res = np.zeros_like(x)\n",
    "    st = d1[0].shape[0]\n",
    "    for i in range(1,len(d2)-1):\n",
    "        res[st*i:st*(i+1)] = d1[i-1].dot(x[st*(i-1):st*(i)]) + d2[i].dot(x[st*i:st*(i+1)]) + d3[i].dot(x[st*(i+1):st*(i+2)])\n",
    "    res[:st] = d2[0].dot(x[:st])+d3[0].dot(x[st:2*st])\n",
    "    res[-st:] = d1[-1].dot(x[-2*st:-st])+d2[-1].dot(x[-st:])\n",
    "    return res\n",
    "\n",
    "x= np.ndarray(shape=(100010,1),dtype=np.float64)\n",
    "d1 = np.random.rand(10000,10,10)\n",
    "d2 = np.random.rand(10000,10,10)\n",
    "d3 = np.random.rand(10001,10,10)\n",
    "lo = LinearOperator(shape=(len(x),len(x)),matvec=matvec )\n",
    "y = matvec(x)\n",
    "x,er = minres(lo,y)\n",
    "print x.shape\n",
    "\n",
    "err = ((matvec(x)-y)**2).mean()\n",
    "print err\n"
   ]
  },
  {
   "cell_type": "markdown",
   "metadata": {},
   "source": [
    "# Block Thomas algorithm\n",
    "\n",
    "(link: http://www4.ncsu.edu/eos/users/w/white/www/white/ma580/chap2.5.PDF)\n",
    "\n",
    "$$M = \\begin{pmatrix} A_1 & C_1 & 0 &0&... \\\\ B_2 & A_2 & C_2 & 0& ... \\\\ 0 & B_3 &A_3&C_2&0 \\\\ ...&...&...&...&...\\end{pmatrix}$$\n",
    "$$d  =Mx$$\n",
    "\n",
    "### solver\n",
    "$$\\alpha_1 = A_1^{-1}$$\n",
    "$$\\gamma_1 = \\alpha_1^{-1}C_1$$\n",
    "$$Y_0 = \\alpha_1^{-1}d_1$$\n",
    "for i from 2 to N:\n",
    "\n",
    "$\\quad b = Mx$\n",
    "\n",
    "$\\quad \\alpha_i = A_i-B_i\\gamma_{i-1}$\n",
    "\n",
    "$\\quad \\gamma_i = \\alpha_i^{-1}C_i$\n",
    "\n",
    "$\\quad Y_i = \\alpha_i^{-1}(d_i-B_iY_{i-1}$\n",
    "\n",
    "$$x_N = Y_N$$\n",
    "for i from N-1 to 1:\n",
    "\n",
    "$\\quad x_i = Y_i-\\gamma_ix_{i+1}$"
   ]
  },
  {
   "cell_type": "code",
   "execution_count": 16,
   "metadata": {
    "collapsed": false
   },
   "outputs": [],
   "source": [
    "from numpy.linalg import inv\n",
    "import numpy as np\n",
    "\n",
    "\n",
    "def matvec(A,B,C,x):\n",
    "    xN = x.shape[1]\n",
    "    res = x.copy()\n",
    "    for i in range(1,xN-1):\n",
    "        res[:,i] = A[:,:,i].dot(x[:,i])+B[:,:,i-1].dot(x[:,i-1])+C[:,:,i].dot(x[:,i+1])\n",
    "    res[:,0] = A[:,:,0].dot(x[:,0])+C[:,:,0].dot(x[:,1])\n",
    "    res[:,-1] = B[:,:,-1].dot(x[:,-2])+A[:,:,-1].dot(x[:,-1])\n",
    "    return res\n",
    "    \n",
    "\n",
    "def solve_linear(A,B,C,d):\n",
    "    x = np.empty(d.shape,dtype= np.float64)\n",
    "    xN = x.shape[1]\n",
    "    Y = np.empty(d.shape,dtype= np.float64)\n",
    "    gamma = np.empty(C.shape,dtype= np.float64)\n",
    "    ialpha= np.linalg.inv(A[:,:,0])\n",
    "    gamma[:,:,0] = ialpha.dot(C[:,:,0])\n",
    "    Y[:,0] = ialpha.dot(d[:,0])\n",
    "    for i in range(1,xN-1):\n",
    "        ialpha = np.linalg.inv(A[:,:,i]-B[:,:,i-1].dot(gamma[:,:,i-1]))\n",
    "        gamma[:,:,i] = ialpha.dot(C[:,:,i])\n",
    "        Y[:,i] = ialpha.dot(d[:,i]-B[:,:,i-1].dot(Y[:,i-1]))\n",
    "\n",
    "    ialpha = np.linalg.inv(A[:,:,xN-1]-B[:,:,xN-2].dot(gamma[:,:,xN-2]))\n",
    "    Y[:,xN-1] = ialpha.dot(d[:,xN-1]-B[:,:,xN-2].dot(Y[:,xN-2]))\n",
    "    x[:,xN-1] = Y[:,xN-1]\n",
    "    for i in reversed(range(xN-1)):\n",
    "        x[:,i] = Y[:,i]-gamma[:,:,i].dot(x[:,i+1])\n",
    "    return x\n",
    "\n"
   ]
  },
  {
   "cell_type": "markdown",
   "metadata": {},
   "source": [
    "## Time test"
   ]
  },
  {
   "cell_type": "code",
   "execution_count": 17,
   "metadata": {
    "collapsed": false
   },
   "outputs": [
    {
     "name": "stdout",
     "output_type": "stream",
     "text": [
      "(5L, 100000L)\n",
      "1 loop, best of 3: 10.3 s per loop\n"
     ]
    }
   ],
   "source": [
    "import matplotlib.pyplot as plt\n",
    "from time import time\n",
    "%matplotlib inline\n",
    "\n",
    "\n",
    "N = 100000\n",
    "M = 5\n",
    "x= np.random.rand(M,N).astype(np.float64)\n",
    "B = np.random.rand(M,M,N-1)\n",
    "C = np.random.rand(M,M,N-1)\n",
    "for i in range(N-1):\n",
    "    B[:,:,i]+= np.eye(M,M)*2\n",
    "    C[:,:,i]+= np.eye(M,M)*2\n",
    "A = np.random.rand(M,M,N)\n",
    "for i in range(N):\n",
    "    A[:,:,i]+= np.eye(M,M)*2\n",
    "d = matvec(A,B,C,x)\n",
    "print x.shape\n",
    "\n",
    "%timeit x1 = solve_linear(A,B,C,d)"
   ]
  },
  {
   "cell_type": "markdown",
   "metadata": {},
   "source": [
    "## Accuracy test"
   ]
  },
  {
   "cell_type": "code",
   "execution_count": 18,
   "metadata": {
    "collapsed": false
   },
   "outputs": [
    {
     "data": {
      "image/png": "[encoded data removed]",
      "text/plain": [
       "<matplotlib.figure.Figure at 0x7432f60>"
      ]
     },
     "metadata": {},
     "output_type": "display_data"
    }
   ],
   "source": [
    "def generate_mat(M,cond):\n",
    "    b = np.random.rand(M,M)\n",
    "    U,s,V = np.linalg.svd(b)\n",
    "    s[0] = s[-1]*cond\n",
    "    return b\n",
    "\n",
    "def thomas_accuracy_test():\n",
    "    errors = []\n",
    "    conds = []\n",
    "    for k in range(1,30):\n",
    "        N = 1000\n",
    "        M = 5\n",
    "        cond = 2**k\n",
    "        x= np.random.rand(M,N).astype(np.float64)\n",
    "        B = np.random.rand(M,M,N-1)\n",
    "        C = np.random.rand(M,M,N-1)\n",
    "        b = np.random.rand(M,M)\n",
    "        U,s,V = np.linalg.svd(b)\n",
    "        s[0] = s[-1]*cond\n",
    "        b = U.dot(np.diag(s).dot(V.T))\n",
    "        for i in range(N-1):\n",
    "            B[:,:,i] = generate_mat(M,cond)\n",
    "            C[:,:,i] = generate_mat(M,cond)\n",
    "        A = np.random.rand(M,M,N)\n",
    "        for i in range(N):\n",
    "            A[:,:,i] = generate_mat(M,cond)\n",
    "        d = matvec(A,B,C,x)\n",
    "        x1 = solve_linear(A,B,C,d)\n",
    "        errors.append(np.abs(x-x1).mean())\n",
    "        conds.append(cond)\n",
    "\n",
    "    plt.plot(np.log10(conds),np.log10(errors))\n",
    "    plt.xlabel('log10(condition number of block)')\n",
    "    plt.ylabel('$ \\\\log_{10}\\\\|x-x_0\\\\| $')\n",
    "    plt.show()\n",
    "    \n",
    "thomas_accuracy_test()"
   ]
  },
  {
   "cell_type": "code",
   "execution_count": null,
   "metadata": {
    "collapsed": true
   },
   "outputs": [],
   "source": []
  }
 ],
 "metadata": {
  "anaconda-cloud": {},
  "kernelspec": {
   "display_name": "Python 2",
   "language": "python",
   "name": "python2"
  },
  "language_info": {
   "codemirror_mode": {
    "name": "ipython",
    "version": 2
   },
   "file_extension": ".py",
   "mimetype": "text/x-python",
   "name": "python",
   "nbconvert_exporter": "python",
   "pygments_lexer": "ipython2",
   "version": "2.7.12"
  }
 },
 "nbformat": 4,
 "nbformat_minor": 1
}
