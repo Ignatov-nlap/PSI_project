{
 "cells": [
  {
   "cell_type": "code",
   "execution_count": 15,
   "metadata": {
    "collapsed": false
   },
   "outputs": [],
   "source": [
    "import numpy as np\n",
    "from scipy.interpolate import interp1d\n",
    "\n",
    "def matvec(A,B,C,x):\n",
    "    xN = x.shape[1]\n",
    "    res = x.copy()\n",
    "    for i in range(1,xN-1):\n",
    "        res[:,i] = A[:,:,i].dot(x[:,i])+B[:,:,i-1].dot(x[:,i-1])+C[:,:,i].dot(x[:,i+1])\n",
    "    res[:,0] = A[:,:,0].dot(x[:,0])+C[:,:,0].dot(x[:,1])\n",
    "    res[:,-1] = B[:,:,-1].dot(x[:,-2])+A[:,:,-1].dot(x[:,-1])\n",
    "    return res\n",
    "\n",
    "\n",
    "def solve_linear(A,B,C,d):\n",
    "    x = np.empty(d.shape,dtype= np.float64)\n",
    "    xN = x.shape[1]\n",
    "    Y = np.empty(d.shape,dtype= np.float64)\n",
    "    gamma = np.empty(C.shape,dtype= np.float64)\n",
    "    ialpha= np.linalg.inv(A[:,:,0])\n",
    "    gamma[:,:,0] = ialpha.dot(C[:,:,0])\n",
    "    Y[:,0] = ialpha.dot(d[:,0])\n",
    "    for i in range(1,xN-1):\n",
    "        ialpha = np.linalg.inv(A[:,:,i]-B[:,:,i-1].dot(gamma[:,:,i-1]))\n",
    "        gamma[:,:,i] = ialpha.dot(C[:,:,i])\n",
    "        Y[:,i] = ialpha.dot(d[:,i]-B[:,:,i-1].dot(Y[:,i-1]))\n",
    "\n",
    "    ialpha = np.linalg.inv(A[:,:,xN-1]-B[:,:,xN-2].dot(gamma[:,:,xN-2]))\n",
    "    Y[:,xN-1] = ialpha.dot(d[:,xN-1]-B[:,:,xN-2].dot(Y[:,xN-2]))\n",
    "    x[:,xN-1] = Y[:,xN-1]\n",
    "    for i in reversed(range(xN-1)):\n",
    "        x[:,i] = Y[:,i]-gamma[:,:,i].dot(x[:,i+1])\n",
    "    return x\n",
    "\n",
    "#solve func(x) = r\n",
    "#jac = A+J,B,C tridiag block matrix A+J - main,B - lo diag ,  C - uppper diag\n",
    "def newton_solver(A,B,C,J,func0,x0,grid,r,eps = 1e-4, max_iter = 100):\n",
    "    x = x0.copy()\n",
    "    func = func0.copy()\n",
    "    for i in range(max_iter):\n",
    "        dx = solve_linear(A-J,B,C,-(func-r))\n",
    "        x+=dx\n",
    "        A,B,C,J,func = generate_problem(grid,x)\n",
    "        if(np.abs(func-r).mean() < eps):\n",
    "            break\n",
    "    return A,B,C,J,func,x\n",
    "\n",
    "\n",
    "#solve func(x) = r\n",
    "#jac = A+J,B,C tridiag block matrix A+J - main,B - lo diag ,  C - uppper diag\n",
    "def solver(A,B,C,J,func,x0,grid,r,eps = 1e-4, max_iter = 10,min_grid = 10):\n",
    "    if(len(grid) <= min_grid ):\n",
    "        return newton_solver(A,B,C,J,func,x0,grid,r,max_iter=1)[5]\n",
    "    else:\n",
    "        x = x0.copy()\n",
    "        for i in range(max_iter):\n",
    "            x = multigrid(A,B,C,J,func,x,grid,r)\n",
    "            A,B,C,J,func = generate_problem(grid,x)\n",
    "            A,B,C,J,func,x = newton_solver(A,B,C,J,func,x,grid,r,max_iter = 1)\n",
    "            if(np.abs(func-r).mean() < eps):\n",
    "                break\n",
    "        return x\n",
    "\n",
    "\n",
    "def interpolate(in_grid,x,out_grid):\n",
    "    f = interp1d(in_grid,x,axis=1)\n",
    "    return f(out_grid)\n",
    "\n",
    "\n",
    "def decimation(mat):\n",
    "    new_mat = mat[...,0::2]\n",
    "    return new_mat\n",
    "\n",
    "\n",
    "def multigrid(A,B,C,J,func,v,grid,r):\n",
    "    grid2 = decimation(grid)\n",
    "    v2 = decimation(v)\n",
    "    r2 = decimation(r-func)\n",
    "    A2,B2,C2,J2,func2 = generate_problem(grid2,v2)\n",
    "    u2 = solver(A2,B2,C2,J2,func2,v2,grid2,func2+r2,max_iter = 1)\n",
    "    e2 = u2-v2\n",
    "    e = interpolate(grid2,e2,grid)\n",
    "    u = v+e\n",
    "    return u\n"
   ]
  },
  {
   "cell_type": "markdown",
   "metadata": {
    "collapsed": false
   },
   "source": [
    "## Tests"
   ]
  },
  {
   "cell_type": "code",
   "execution_count": 17,
   "metadata": {
    "collapsed": false
   },
   "outputs": [
    {
     "data": {
      "image/png": "[encoded data removed]",
      "text/plain": [
       "<matplotlib.figure.Figure at 0x8b12780>"
      ]
     },
     "metadata": {},
     "output_type": "display_data"
    },
    {
     "data": {
      "image/png": "[encoded data removed]",
      "text/plain": [
       "<matplotlib.figure.Figure at 0x8adc588>"
      ]
     },
     "metadata": {},
     "output_type": "display_data"
    }
   ],
   "source": [
    "\n",
    "import matplotlib.pyplot as plt\n",
    "%matplotlib inline\n",
    "global A,B,C,J,N,M\n",
    "\n",
    "\n",
    "def generate_problem(grid,x):\n",
    "    global M,N,A,B,C,f0\n",
    "    f = np.zeros((M,x.shape[1]))\n",
    "    for i in range(x.shape[1]):\n",
    "        for j in range(x.shape[0]):\n",
    "            f[j,i] = np.exp(x[j,i])\n",
    "    J = np.zeros((M,M,x.shape[1]))\n",
    "    for i in range(x.shape[1]):\n",
    "        for j in range(x.shape[0]):\n",
    "            J[j][j][i] = np.exp(x[j][i])\n",
    "\n",
    "    _A = A.copy()\n",
    "    _B = B.copy()\n",
    "    _C = C.copy()\n",
    "    while(len(grid) != _A.shape[2]):\n",
    "        _A = decimation(_A)\n",
    "        _B = decimation(_B)\n",
    "        _C = decimation(_C)\n",
    "    return _A,_B,_C,J,matvec(_A,_B,_C,x) - f\n",
    "\n",
    "\n",
    "def generate_grid(n):\n",
    "    return np.linspace(0,1,n)\n",
    "\n",
    "N = 1025\n",
    "M = 3 #in block\n",
    "np.random.seed(0)\n",
    "B = np.zeros((M,M,N-1))#np.random.rand(M,M,N)\n",
    "C = np.zeros((M,M,N-1))#np.random.rand(M,M,N)\n",
    "C[:,:,0] = 0\n",
    "A = np.zeros((M,M,N))#np.random.rand(M,M,N)\n",
    "for i in range(N):\n",
    "    A[:,:,i] = np.eye(M)*6\n",
    "\n",
    "grid = generate_grid(N)\n",
    "x0 = np.random.rand(M,N).astype(np.float64)\n",
    "A,B,C,J,f0 = generate_problem(grid,x0)\n",
    "\n",
    "err = []\n",
    "ee = []\n",
    "it = []\n",
    "\n",
    "\n",
    "x = np.zeros((M,N), dtype=np.float64)\n",
    "A,B,C,J,f = generate_problem(grid,x)\n",
    "for i in range(40):\n",
    "    x = solver(A, B, C, J,f, x, grid, f0,max_iter = 1)\n",
    "    A,B,C,J,f = generate_problem(grid,x)\n",
    "    ee.append(np.abs(f-f0).mean())\n",
    "    err.append(np.abs(x-x0).mean())\n",
    "    it.append(i)\n",
    "\n",
    "plt.title(\"log10(residual)\")\n",
    "plt.plot(it,np.log10(np.array(ee)))\n",
    "plt.show()\n",
    "\n",
    "plt.title(\"log10(|x-x0|)\")\n",
    "plt.plot(it,np.log10(np.array(err)))\n",
    "plt.show()"
   ]
  },
  {
   "cell_type": "code",
   "execution_count": 10,
   "metadata": {
    "collapsed": false
   },
   "outputs": [
    {
     "name": "stdout",
     "output_type": "stream",
     "text": [
      "N= 8193\n",
      "multigrid\n",
      "1 loop, best of 3: 4.63 s per loop\n",
      "residual 1.58415357125e-05\n"
     ]
    }
   ],
   "source": [
    "N = 2**13+1\n",
    "print 'N=',N\n",
    "M = 3 #in block\n",
    "np.random.seed(0)\n",
    "B = np.zeros((M,M,N-1))#np.random.rand(M,M,N)\n",
    "C = np.zeros((M,M,N-1))#np.random.rand(M,M,N)\n",
    "C[:,:,0] = 0\n",
    "A = np.zeros((M,M,N))#np.random.rand(M,M,N)\n",
    "for i in range(N):\n",
    "    A[:,:,i] = np.eye(M)*2\n",
    "\n",
    "grid = generate_grid(N)\n",
    "x0 = np.random.rand(M,N).astype(np.float64)\n",
    "A,B,C,J,f0 = generate_problem(grid,x0)\n",
    "\n",
    "x = np.zeros((M,N), dtype=np.float64)\n",
    "A,B,C,J,f = generate_problem(grid,x)\n",
    "print 'multigrid'\n",
    "%timeit solver(A, B, C, J,f, x, grid, f0,max_iter = 1)\n",
    "x = solver(A, B, C, J,f, x, grid, f0)\n",
    "A,B,C,J,f = generate_problem(grid,x)\n",
    "print 'residual', np.abs(f-f0).mean()"
   ]
  },
  {
   "cell_type": "code",
   "execution_count": 11,
   "metadata": {
    "collapsed": false
   },
   "outputs": [
    {
     "name": "stdout",
     "output_type": "stream",
     "text": [
      "newton solver\n",
      "1 loop, best of 3: 7.78 s per loop\n",
      "residual 1.63734311613e-05\n"
     ]
    }
   ],
   "source": [
    "\n",
    "\n",
    "x = np.zeros((M,N), dtype=np.float64)\n",
    "A,B,C,J,f = generate_problem(grid,x)\n",
    "print 'newton solver'\n",
    "%timeit newton_solver(A, B, C, J,f, x, grid, f0,max_iter= 1000)\n",
    "f = newton_solver(A, B, C, J,f, x, grid, f0,max_iter= 1000)[-2]\n",
    "print 'residual', np.abs(f-f0).mean()"
   ]
  },
  {
   "cell_type": "code",
   "execution_count": null,
   "metadata": {
    "collapsed": true
   },
   "outputs": [],
   "source": []
  }
 ],
 "metadata": {
  "anaconda-cloud": {},
  "kernelspec": {
   "display_name": "Python 2",
   "language": "python",
   "name": "python2"
  },
  "language_info": {
   "codemirror_mode": {
    "name": "ipython",
    "version": 2
   },
   "file_extension": ".py",
   "mimetype": "text/x-python",
   "name": "python",
   "nbconvert_exporter": "python",
   "pygments_lexer": "ipython2",
   "version": "2.7.12"
  }
 },
 "nbformat": 4,
 "nbformat_minor": 0
}
