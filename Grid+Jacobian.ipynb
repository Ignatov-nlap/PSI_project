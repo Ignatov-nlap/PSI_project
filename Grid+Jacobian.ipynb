{
 "cells": [
  {
   "cell_type": "code",
   "execution_count": null,
   "metadata": {
    "collapsed": true
   },
   "outputs": [],
   "source": [
    "import numpy as np\n",
    "import scipy.optimize as spo\n",
    "import matplotlib.pyplot as plt"
   ]
  },
  {
   "cell_type": "code",
   "execution_count": null,
   "metadata": {
    "collapsed": true
   },
   "outputs": [],
   "source": [
    "#set of functions\n",
    "#Building non-linear grid\n",
    "def non_lin_grid(lenght, xN, coef):\n",
    "    \n",
    "    #lenght - [m]\n",
    "    # xN - number of cells\n",
    "    xL=np.float64(0.)\n",
    "    xR=xL+(lenght/L0)\n",
    "    H=xR\n",
    "    \n",
    "    #uniformly distributed parameter\n",
    "    ksi = np.zeros(xN+1)\n",
    "    \n",
    "    for i in range(np.int(xN)):\n",
    "        \n",
    "        ksi[i+1] = ksi[i] + one/xN\n",
    "            \n",
    "    tmpr=((coef+one)/(coef-one))**(one-ksi)\n",
    "    #current x has 1001 points!!!! - the edges\n",
    "    x=H*(coef+one-(coef-one)*tmpr)/(one+tmpr)\n",
    "    \n",
    "    #size of each cell\n",
    "    dx=(x[1:xN+1]-x[0:xN])\n",
    "    \n",
    "    #now x - array of coordinates of cells\n",
    "    x = np.zeros(xN)\n",
    "    x[0] = xL+half*dx[0]\n",
    "    \n",
    "    for i in range(dx.size-1):\n",
    "        \n",
    "        x[i+1] = x[i] + half*(dx[i+1]+dx[i])\n",
    "        \n",
    "    return x, dx\n",
    "\n",
    "def set_w(dx):\n",
    "\n",
    "    xN = dx.size\n",
    "    \n",
    "    #%линейная двухточечная аппроксимация нелинейной сетки\n",
    "    w_r = dx[0:xN-1]/(dx[0:xN-1]+dx[1:xN])                        #    !линейная аппроксимация внутри области П= mass_r(1)*П2+mass_l(1)*П1; П1,П2-значения в ячейках П-между ячейками\n",
    "    w_l = dx[1:xN]/(dx[0:xN-1]+dx[1:xN])\n",
    "\n",
    "    we_l = np.zeros(2)\n",
    "    we_r = np.zeros(2)\n",
    "    we_r[0]=-(dx[xN-1]/(dx[xN-2]+dx[xN-1]))                             #  !линейная аппроксимация на правой границе области П= edge_r(1)*П1+edge_r(2)*П2; П1,П2-значения в ячейках П-на правая грань\n",
    "    we_r[1]=((dx[xN-2]+two*dx[xN-1])/(dx[xN-2]+dx[xN-1])) \n",
    "\n",
    "    we_l[0] = (two*dx[0]+dx[1])/(dx[0]+dx[1])                       # !линейная аппроксимация на левой границе области П= edge_l(1)*П1+edge_l(2)*П2; П1,П2-значения в ячейках П-на левой грани\n",
    "    we_l[1] = -dx[0]/(dx[0]+dx[1])\n",
    "\n",
    "    \n",
    "    return w_r, w_l, we_r, we_l\n",
    "\n",
    "def gen_dx_w(x):\n",
    "    \n",
    "    dx = np.zeros(x.shape)\n",
    "    \n",
    "    dx[0] = two*x[0]\n",
    "    \n",
    "    for i in range(1, x.size):\n",
    "        \n",
    "        dx[i] = two*(x[i] - x[i-1] - half*dx[i-1])\n",
    "    \n",
    "#     print dx[:10]\n",
    "    \n",
    "    w_r, w_l, we_r, we_l = set_w(dx)\n",
    "\n",
    "    return dx, w_r, w_l, we_r, we_l"
   ]
  },
  {
   "cell_type": "code",
   "execution_count": null,
   "metadata": {
    "collapsed": true
   },
   "outputs": [],
   "source": [
    "#Compute Jacobian\n",
    "def get_Jac(AD, AJ, IRc, n, Th, T1, dx, w_r, w_l, we_r, we_l):\n",
    "    \n",
    "    Jac_f = np.zeros([4,4,n.shape[1]])\n",
    "#     AD = np.zeros([4,4,n.shape[1]])\n",
    "#     AJ = np.zeros([4,n.shape[1]])\n",
    "#     print Jac_f.shape\n",
    "#     print IRc.shape\n",
    "#     print AD.shape\n",
    "#     print n.shape\n",
    "    Jac_f [0,0,:] = -IRc[0,1,:]*n[0,:]\n",
    "    Jac_f [1,0,:] = -IRc[0,0,:]*n[0,:]\n",
    "    Jac_f [2,0,:] = IRc[0,1,:]*n[0,:]\n",
    "    \n",
    "    Jac_f [0,1,:] = two*IRc[1,1,:]*n[4,:]*n[0,:] - IRc[0,1,:]*n[2,:]\n",
    "    Jac_f [1,1,:] = -IRc[0,0,:]*(n[2,:]+n[3,:]+n[4,:]+n[5,:] - (P/Th) + (T1*n[0,:])/Th)-IRc[1,0,:]*n[0,:]*n[0,:] - two*IRc[1,0,:]*n[0,:]*n[3,:] - IRc[0,0,:]*n[0,:]*((T1/Th)+one)\n",
    "    Jac_f [2,1,:] = IRc[0,1,:]*n[2,:] - IRc[0,2,:]*n[4,:] - two*IRc[1,1,:]*n[0,:]*n[4,:] + two*IRc[1,2,:]*n[0,:]*n[5,:]\n",
    "    Jac_f [3,1,:] = IRc[0,2,:]*n[4,:] - two*IRc[1,2,:]*n[0,:]*n[5,:] \n",
    "    \n",
    "    Jac_f [0,2,:] = IRc[1,1,:]*n[0,:]*n[0,:] - IRc[0,1,:]*n[2,:] +two*IRc[1,1,:]*n[0,:]*n[4,:]\n",
    "    Jac_f [1,2,:] = -IRc[0,0,:]*(n[2,:]+n[3,:]+n[4,:]+n[5,:] - (P/Th) + (T1*n[0,:])/Th) - two*IRc[1,0,:]*n[0,:]*n[3,:] - IRc[0,0,:]*n[0,:]*((T1/Th)+one)\n",
    "    Jac_f [2,2,:] = IRc[0,1,:]*n[2,:] - IRc[0,2,:]*n[0,:] - IRc[1,1,:]*n[0,:]*n[0,:] - IRc[0,2,:]*n[4,:] - two*IRc[1,1,:]*n[0,:]*n[4,:] + two*IRc[1,2,:]*n[0,:]*n[5,:] \n",
    "    Jac_f [3,2,:] = IRc[0,2,:]*n[4,:] + IRc[0,2,:]*n[0,:] - two*IRc[1,2,:]*n[0,:]*n[5,:] \n",
    "    \n",
    "    Jac_f [0,3,:] = - two*IRc[0,1,:]*n[2,:] +four*IRc[1,1,:]*n[0,:]*n[4,:]\n",
    "    Jac_f [1,3,:] = -two*IRc[0,0,:]*(n[2,:]+n[3,:]+n[4,:]+n[5,:] - (P/Th) + (T1*n[0,:])/Th) - four*IRc[1,0,:]*n[0,:]*n[3,:] - IRc[0,0,:]*n[0,:]*((two*T1/Th)+one)\n",
    "    Jac_f [2,3,:] = IRc[1,2,:]*n[0,:]*n[0,:] + two*IRc[0,1,:]*n[2,:] - two*IRc[0,2,:]*n[4,:] - four*IRc[1,1,:]*n[0,:]*n[4,:] + four*IRc[1,2,:]*n[0,:]*n[5,:] \n",
    "    Jac_f [3,3,:] = two*IRc[0,2,:]*n[4,:] - IRc[1,2,:]*n[0,:]*n[0,:] - four*IRc[1,2,:]*n[0,:]*n[5,:] \n",
    "    \n",
    "    return Jac_f"
   ]
  }
 ],
 "metadata": {
  "kernelspec": {
   "display_name": "Python [Root]",
   "language": "python",
   "name": "Python [Root]"
  },
  "language_info": {
   "codemirror_mode": {
    "name": "ipython",
    "version": 2
   },
   "file_extension": ".py",
   "mimetype": "text/x-python",
   "name": "python",
   "nbconvert_exporter": "python",
   "pygments_lexer": "ipython2",
   "version": "2.7.12"
  }
 },
 "nbformat": 4,
 "nbformat_minor": 0
}
