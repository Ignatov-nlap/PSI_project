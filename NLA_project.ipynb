{
 "cells": [
  {
   "cell_type": "markdown",
   "metadata": {
    "collapsed": true
   },
   "source": [
    "# NLA Project - PSI plasma-surface interaction"
   ]
  },
  {
   "cell_type": "markdown",
   "metadata": {},
   "source": [
    "Actuality:\n",
    "\n",
    "There are two essential sides of PSI problem:\n",
    "1. The problem of defining the influence of plasma on wall is fundamental due to understanding what are fluxes that are acted on wall. In order to obtain them we should find the properties of PSI near the surface. Unfortunately experimentally it is hard to obtain due to  difficulty of mesurement the characteristis of plasma in small area (0.1 mm), where the gradients of parameters are very big.\n",
    "2. The modeling provides us with ability to solve this problem numerically, but even for 1D case we can have huge n - quantity of components of plasma, that will increase the complexity of solving linear system significantly.\n",
    "\n",
    "Problem statement:\n",
    "There is non-equilibrium low-temperatured 5 component plasma(For Ar: e-1, Ar-2, Ar+-3, Ar++-4, Ar+++-5; or for 6 comp Ar-Fe:e-1, Ar-2, Fe-3, Ar+-4, Fe+-5, Fe++-6;) near the metal wall. The average velocity of it equals zero. The current j is the only source of energy that increases the maintaining the temperature of plasma. Lets choose the area that is adjusted to the space charge sheath that equals to radius of Debuy and assume that system is isothermal.\n",
    "\n",
    "The conservative stationary system of equations for Ar will consist of 3 subsets of equations:\n",
    "\n",
    "### I.1\n",
    "\n",
    "$$n_1 = n_3 +2n_4 +3n_5 $$\n",
    "$$\\frac{dn_3v_3}{dx} = Г_1 - Г_2 $$\n",
    "$$\\frac{dn_4v_4}{dx} = Г_2 - Г_3 $$\n",
    "$$\\frac{dn_5v_5}{dx} = Г_3 $$\n",
    "$$\\sum_{\\gamma = 1}^{5} n_{\\gamma}T_{\\gamma} = \\frac{P_0}{k_B}$$\n",
    "or $\\frac{dn_2v_2}{dx} = -Г_1 $\n",
    "where\n",
    "\n",
    "$Г_1 = \\alpha_1 n_1 n_2 - \\beta_1 n_1^2 n_3, $\n",
    "$Г_2 = \\alpha_2 n_1 n_3 - \\beta_2 n_1^2 n_4, $\n",
    "$Г_3 = \\alpha_3 n_1 n_4 - \\beta_3 n_1^2 n_5, $\n",
    "\n",
    "$\\alpha_i, \\beta_i$ - coefficients of ionization and recombination of Ar correspondently\n",
    "\n",
    "### I.2\n",
    "\n",
    "The conservative stationary system of dimentionless equations for Ar-Fe will be:\n",
    "\n",
    "$$n_1 = n_4 +n_5 +2n_6 $$\n",
    "$$\\frac{dn_3v_3}{dx} = -Г_1^{Fe} $$\n",
    "$$\\frac{dn_4v_4}{dx} = Г_1^{Ar} $$\n",
    "$$\\frac{dn_5v_5}{dx} = Г_1^{Fe} - Г_2^{Fe} $$\n",
    "$$\\frac{dn_6v_6}{dx} = Г_2^{Fe} $$\n",
    "$$\\sum_{\\gamma = 1}^{6} n_{\\gamma}T_{\\gamma} = \\frac{P_0}{k_B}$$\n",
    "or $\\frac{dn_2v_2}{dx} = -Г_1^{Ar} $\n",
    "where\n",
    "\n",
    "$Г_1^{Ar} = \\alpha_1^{Ar} n_1 n_2 - \\beta_1^{Ar} n_1^2 n_4, $\n",
    "$Г_1^{Fe} = \\alpha_1^{Fe} n_1 n_3 - \\beta_1^{Fe} n_1^2 n_5, $\n",
    "$Г_2^{Fe} = \\alpha_2^{Fe} n_1 n_5 - \\beta_2^{Fe} n_1^2 n_6, $\n",
    "\n",
    "$\\alpha_i^{j}, \\beta_i^{j}$ - coefficients of ionization and recombination of j-element correspondently"
   ]
  },
  {
   "cell_type": "markdown",
   "metadata": {},
   "source": [
    "### II.1\n",
    "\n",
    "$$\\sum_{\\gamma = 1}^{5} q_{\\gamma}n_{\\gamma}v_{\\gamma} = j$$\n",
    "$$\\sum_{\\gamma = 2}^{5} n_{\\gamma}v_{\\gamma} = 0$$\n",
    "$$ \\frac{d(p_{\\gamma}+m_{\\gamma}n_{\\gamma}v_{\\gamma}^2)}{dx} = Eq_{\\gamma}n_{\\gamma} + \\sum_{\\theta \\ne \\gamma}P_{\\gamma\\theta} + R_{\\gamma}$$ \n",
    "\n",
    "$\\gamma = 3,4,5; \\theta = 1, .. , 5$\n",
    "\n",
    "where\n",
    "\n",
    "$P_{ij} =\\omega_{ij}\\mu_{ij}m_in_i(v_j-v_i); R_{3} = \\alpha_1 n_1 n_2v_2 - \\beta_1 n_1^2 n_3v_3 - (R_4 + R_5); R_{4} = \\alpha_2 n_1 n_3v_3  - \\beta_2 n_1^2 n_4v_4 - R_5; R_{5} = \\alpha_3 n_1 n_4v_4  - \\beta_3 n_1^2 n_5v_5; q_i -$particle charge$ \\mu_{ij}-$reduced mass\n",
    "\n",
    "### II.2\n",
    "\n",
    "$$\\sum_{\\gamma = 1}^{6} q_{\\gamma}n_{\\gamma}v_{\\gamma} = j$$\n",
    "$$n_{2}v_{2} +n_{4}v_{4} = 0$$\n",
    "$$n_{3}v_{3} +n_{5}v_{5}+n_{6}v_{6} = Г_{Fe}$$\n",
    "$$ \\frac{d(p_{\\gamma}+m_{\\gamma}n_{\\gamma}v_{\\gamma}^2)}{dx} = Eq_{\\gamma}n_{\\gamma} + \\sum_{\\theta \\ne \\gamma}P_{\\gamma\\theta} + R_{\\gamma}$$ \n",
    "\n",
    "$\\gamma = 4, ... ,6; \\theta = 1, ... , 6$\n",
    "\n",
    "where\n",
    "\n",
    "$P_{ij} =\\omega_{ij}\\mu_{ij}m_in_i(v_j-v_i); R_{4} = \\alpha_1^{Ar} n_1 n_2v_2 - \\beta_1^{Ar} n_1^2 n_4v_4; R_{5} = \\alpha_1^{Fe} n_1 n_3v_3 - \\beta_1^{Ar} n_1^2 n_5v_5 - R_6; R_{6} = \\alpha_2^{Fe} n_1 n_5v_5 - \\beta_2^{Fe} n_1^2 n_6v_6; q_i -$particle charge$ \\mu_{ij}-$reduced mass"
   ]
  },
  {
   "cell_type": "markdown",
   "metadata": {},
   "source": [
    "### III.1\n",
    "\n",
    "As the heat capacity ratio $\\gamma_{hc} = \\frac{5}{3}$ for monoatomic gas then\n",
    "\n",
    "$$\\frac{d(v_{\\gamma}(\\frac{\\gamma}{\\gamma_{hc}-1}p_{\\gamma}+ \\frac{1}{2} m_{\\gamma}n_{\\gamma}v_{\\gamma}^2))}{dx} = \\frac{d}{dx}(\\lambda_{\\gamma}\\frac{dT_{\\gamma}}{dx}) + \\sum_{\\theta \\ne \\gamma}Q_{\\gamma\\theta}+q_{\\gamma}n_{\\gamma}v_{\\gamma}E  + G_{\\gamma} $$\n",
    "\n",
    "$\\gamma = 1, ... ,5$\n",
    "\n",
    "Assuming that temperatures of heavy particles are almost equal due to high frequency of relaxation (The difference could be significan in case of high convective terms that are not so big that we should include them).\n",
    "\n",
    "Thus we have 2 equations. For electrons:\n",
    "\n",
    "$$\\frac{d(v_{1}(\\frac{1}{\\gamma_{hc}-1}p_{1}+ \\frac{1}{2} m_{1}n_{1}v_{1}^2))}{dx} = \\frac{d}{dx}(\\lambda_{1}\\frac{dT_{1}}{dx}) + \\sum_{\\theta \\ne 1}Q_{1\\theta}-|e|n_{1}v_{1}E  + G_{1} $$\n",
    "\n",
    "The sum of equations for heavy particles with $j_h=0=\\sum_{\\gamma \\ne 1} n_{\\gamma}v_{\\gamma}$ gives us:\n",
    "\n",
    "$$\\frac{d(\\sum_{\\gamma \\ne 1}\\frac{1}{2} m_{\\gamma}n_{\\gamma}v_{\\gamma}^3)}{dx} = \\frac{d}{dx}(\\lambda_{h}\\frac{dT_{h}}{dx}) + \\sum_{\\gamma \\ne 1}Q_{\\gamma1}+E(j+|e|n_1v_1)  $$\n",
    "\n",
    "where $T_h = T_{\\gamma}$ where $\\gamma = 2, ..., 6$, $\\lambda_h = \\sum_{i\\ne 1}\\lambda_{i}$, $Q_{ij} = m_{i}n_{i}\\omega_{ij}\\frac{\\mu_{ij}}{m_i+m_j}(3k_B(T_j-T_i)+(v_j-v_i)(m_jv_j+m_iv_i))$, $G_1 = -E_1Г_1-E_2Г_2-E_3Г_3-E_4\\alpha_4 n_1 n_5$\n",
    "\n",
    "### III.2\n",
    "\n",
    "With above considering $T_h = T_{\\gamma}$ where $\\gamma = 2, ..., 6$, $\\lambda_h = \\sum_{i\\ne 1}\\lambda_{i}$\n",
    "\n",
    "$$\\frac{d(v_{1}(\\frac{1}{\\gamma_{hc}-1}p_{1}+ \\frac{1}{2} m_{1}n_{1}v_{1}^2))}{dx} = \\frac{d}{dx}(\\lambda_{1}\\frac{dT_{1}}{dx}) + \\sum_{\\theta \\ne 1}Q_{1\\theta}-|e|n_{1}v_{1}E  + G_{1} $$\n",
    "\n",
    "The sum of equations for heavy particles with $j_h=Г_{Fe}=\\sum_{\\gamma \\ne 1} n_{\\gamma}v_{\\gamma}=const$ gives us:\n",
    "\n",
    "$$\\frac{d(\\sum_{\\gamma \\ne 1}\\frac{1}{2} m_{\\gamma}n_{\\gamma}v_{\\gamma}^3)}{dx} = \\frac{d}{dx}(\\lambda_{h}\\frac{dT_{h}}{dx}) + \\sum_{\\gamma \\ne 1}Q_{\\gamma1}+E(j+|e|n_1v_1)  $$\n",
    "\n",
    "where $Q_{ij} = m_{i}n_{i}\\omega_{ij}\\frac{\\mu_{ij}}{m_i+m_j}(3k_B(T_j-T_i)+(v_j-v_i)(m_jv_j+m_iv_i))$, $G_1 = -E_1^{Ar}Г_1^{Ar}-E_1^{Fe}Г_1^{Fe}-E_2^{Fe}Г_2^{Fe}-E_2^{Ar}\\alpha_2^{Ar} n_1 n_4-E_3^{Fe}\\alpha_3^{Fe} n_1 n_6$\n",
    "\n"
   ]
  },
  {
   "cell_type": "markdown",
   "metadata": {
    "collapsed": true
   },
   "source": [
    "Boundary conditions:\n",
    "\n",
    "As we consider the problem in area that not consits of space charge sheath then we can use that velocity of each component of plasma is Bohm velocity (this set of volicities satisfy the Bohm criterion).\n",
    "\n",
    "IV.1\n",
    "\n",
    "$$\\frac{dW}{dx}|_r = 0$$\n",
    "\n",
    "where r- right side of considered area where plasma is equilibrium, $W = n_i,T_i,v_i$ for i = 1, ... , 5\n",
    "\n",
    "$$n_iv_i|_l = \\sum D_{ij}\\frac{dn_i}{dx}|_l+\\sum D_{ij}^T\\frac{d(T_h+i^2T_e)}{dx}|_l$$\n",
    "\n",
    "$$v_i|_l = \\sqrt{\\frac{k_B(iT_e+T_h)}{m_i}}$$\n",
    "\n",
    "l - left side of considered area where plasma is adjusted to wall surface\n",
    "\n",
    "IV.2\n",
    "\n",
    "\n",
    "$$\\frac{dW}{dx}|_r = 0$$\n",
    "\n",
    "where r- right side of considered area where plasma is equilibrium, $W = n_i,T_i,v_i$ for i = 1, ... , 5\n",
    "\n",
    "$$n_iv_i|_l = \\sum D_{ij}\\frac{dn_i}{dx}|_l+\\sum D_{ij}^T\\frac{d(T_h+i^2T_e)}{dx}|_l$$\n",
    "\n",
    "$$v_i|_l = \\sqrt{\\frac{k_B(iT_e+T_h)}{m_i}}$$\n",
    "\n",
    "l - left side of considered area where plasma is adjusted to wall surface\n"
   ]
  },
  {
   "cell_type": "code",
   "execution_count": null,
   "metadata": {
    "collapsed": true
   },
   "outputs": [],
   "source": []
  }
 ],
 "metadata": {
  "anaconda-cloud": {},
  "kernelspec": {
   "display_name": "Python [default]",
   "language": "python",
   "name": "python2"
  },
  "language_info": {
   "codemirror_mode": {
    "name": "ipython",
    "version": 2
   },
   "file_extension": ".py",
   "mimetype": "text/x-python",
   "name": "python",
   "nbconvert_exporter": "python",
   "pygments_lexer": "ipython2",
   "version": "2.7.12"
  }
 },
 "nbformat": 4,
 "nbformat_minor": 1
}
