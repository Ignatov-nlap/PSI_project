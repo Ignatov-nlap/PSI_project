{
 "cells": [
  {
   "cell_type": "code",
   "execution_count": 45,
   "metadata": {
    "collapsed": false
   },
   "outputs": [],
   "source": [
    "import matplotlib.pyplot as plt\n",
    "%matplotlib inline\n",
    "import numpy as np"
   ]
  },
  {
   "cell_type": "code",
   "execution_count": 46,
   "metadata": {
    "collapsed": true
   },
   "outputs": [],
   "source": [
    "global M,N,A,B,C,f0,x00\n",
    "\n",
    "\n",
    "def matvec(A,B,C,x):\n",
    "    xN = x.shape[1]\n",
    "    res = x.copy()\n",
    "    for i in range(1,xN-1):\n",
    "        res[:,i] = A[:,:,i].dot(x[:,i])+B[:,:,i-1].dot(x[:,i-1])+C[:,:,i].dot(x[:,i+1])\n",
    "    res[:,0] = A[:,:,0].dot(x[:,0])+C[:,:,0].dot(x[:,1])\n",
    "    res[:,-1] = B[:,:,-1].dot(x[:,-2])+A[:,:,-1].dot(x[:,-1])\n",
    "    return res\n",
    "\n",
    "def generate_problem(grid,x):\n",
    "    global M,N,A,B,C,f0\n",
    "    f = x.copy()\n",
    "    for i in range(x.shape[1]):\n",
    "        for j in range(x.shape[0]):\n",
    "            f[j,i] = np.exp(x[j,i])\n",
    "    J = np.zeros((M,M,N))\n",
    "    for i in range(N):\n",
    "        for j in range(M):\n",
    "            J[j][j][i] = np.exp(x[j][i])\n",
    "    return A,B,C,J,-f0+f\n",
    "\n",
    "def solve_linear(A,B,C,d):\n",
    "    x = np.empty(d.shape,dtype= np.float64)\n",
    "    xN = x.shape[1]\n",
    "    Y = np.empty(d.shape,dtype= np.float64)\n",
    "    gamma = np.empty(C.shape,dtype= np.float64)\n",
    "    ialpha= np.linalg.inv(A[:,:,0])\n",
    "    gamma[:,:,0] = ialpha.dot(C[:,:,0])\n",
    "    Y[:,0] = ialpha.dot(d[:,0])\n",
    "    for i in range(1,xN-1):\n",
    "        ialpha = np.linalg.inv(A[:,:,i]-B[:,:,i-1].dot(gamma[:,:,i-1]))\n",
    "        gamma[:,:,i] = ialpha.dot(C[:,:,i])\n",
    "        Y[:,i] = ialpha.dot(d[:,i]-B[:,:,i-1].dot(Y[:,i-1]))\n",
    "\n",
    "    ialpha = np.linalg.inv(A[:,:,xN-1]-B[:,:,xN-2].dot(gamma[:,:,xN-2]))\n",
    "    Y[:,xN-1] = ialpha.dot(d[:,xN-1]-B[:,:,xN-2].dot(Y[:,xN-2]))\n",
    "    x[:,xN-1] = Y[:,xN-1]\n",
    "    for i in reversed(range(xN-1)):\n",
    "        x[:,i] = Y[:,i]-gamma[:,:,i].dot(x[:,i+1])\n",
    "    return x\n",
    "\n",
    "def calc_residual(A,B,C,d,x):\n",
    "    return -d\n",
    "\n",
    "#solve func(x) = r\n",
    "#jac = A+J,B,C tridiag block matrix A+J - main,B - lo diag ,  C - uppper diag\n",
    "def newton_solver(A,B,C,J,func0,x0,grid,r,eps = 1e-8, max_iter = 100):\n",
    "    x = x0.copy()\n",
    "    func = func0.copy()\n",
    "    for i in range(max_iter):\n",
    "        dx = solve_linear(A+J,B,C,-(func-r))\n",
    "        x+=dx\n",
    "        A,B,C,J,func = generate_problem(grid,x)\n",
    "        resid = calc_residual(A,B,C,func-r,x)\n",
    "        if(np.abs(resid).mean() < eps):\n",
    "            break\n",
    "    return A,B,C,J,func,x,resid"
   ]
  },
  {
   "cell_type": "code",
   "execution_count": 47,
   "metadata": {
    "collapsed": false
   },
   "outputs": [],
   "source": [
    "N = 3\n",
    "M = 3 #in block\n",
    "np.random.seed(0) \n",
    "B = np.random.rand(M,M,N)\n",
    "C = np.random.rand(M,M,N)\n",
    "C[:,:,0] = 0\n",
    "A = np.random.rand(M,M,N)\n",
    "A[:,:,-1] = 0\n",
    "x00 = np.random.rand(M,N).astype(np.float64)\n",
    "f0 = np.zeros_like(x00)\n",
    "A,B,C,J,f00 = generate_problem(None,x00)\n"
   ]
  },
  {
   "cell_type": "code",
   "execution_count": 51,
   "metadata": {
    "collapsed": false
   },
   "outputs": [
    {
     "data": {
      "image/png": "[encoded data removed]",
      "text/plain": [
       "<matplotlib.figure.Figure at 0x9fc5668>"
      ]
     },
     "metadata": {},
     "output_type": "display_data"
    },
    {
     "name": "stderr",
     "output_type": "stream",
     "text": [
      "C:\\Program Files\\Anaconda2\\lib\\site-packages\\ipykernel\\__main__.py:43: RuntimeWarning: divide by zero encountered in log10\n"
     ]
    },
    {
     "data": {
      "image/png": "[encoded data removed]",
      "text/plain": [
       "<matplotlib.figure.Figure at 0xa01cb00>"
      ]
     },
     "metadata": {},
     "output_type": "display_data"
    }
   ],
   "source": [
    "\n",
    "\n",
    "\n",
    "N = 3\n",
    "M = 3 #in block\n",
    "np.random.seed(0)\n",
    "B = np.zeros((M,M,N-1))#np.random.rand(M,M,N)\n",
    "C = np.zeros((M,M,N-1))#np.random.rand(M,M,N)\n",
    "C[:,:,0] = 0\n",
    "A = np.zeros((M,M,N))#np.random.rand(M,M,N)\n",
    "for i in range(N):\n",
    "    A[:,:,i] = np.eye(M)\n",
    "\n",
    "x00 = np.random.rand(M,N).astype(np.float64)\n",
    "f0 = np.zeros_like(x00)\n",
    "A,B,C,J,f00 = generate_problem(None,x00)\n",
    "f0 = f00\n",
    "\n",
    "\n",
    "import matplotlib.pyplot as plt\n",
    "\n",
    "x= np.zeros((M,N), dtype=np.float64)\n",
    "A,B,C,J,d = generate_problem(None,x)\n",
    "\n",
    "err = []\n",
    "ee = []\n",
    "it = []\n",
    "\n",
    "\n",
    "for i in range(40):\n",
    "    _,_,_,_,d,x,r = newton_solver(A, B, C, J, d, x, None, np.zeros_like(x),max_iter = 2)\n",
    "    ee.append(np.abs(r).mean())\n",
    "    err.append(np.abs(x-x00).mean())\n",
    "    it.append(i)\n",
    "\n",
    "\n",
    "plt.title('$x-x0$')\n",
    "plt.plot(it,np.log10(np.array(err)))\n",
    "plt.show()\n",
    "\n",
    "\n",
    "plt.title('residual')\n",
    "plt.plot(it,np.log10(np.array(ee)))\n",
    "plt.show()\n",
    "    "
   ]
  },
  {
   "cell_type": "code",
   "execution_count": null,
   "metadata": {
    "collapsed": true
   },
   "outputs": [],
   "source": []
  }
 ],
 "metadata": {
  "anaconda-cloud": {},
  "kernelspec": {
   "display_name": "Python 2",
   "language": "python",
   "name": "python2"
  },
  "language_info": {
   "codemirror_mode": {
    "name": "ipython",
    "version": 2
   },
   "file_extension": ".py",
   "mimetype": "text/x-python",
   "name": "python",
   "nbconvert_exporter": "python",
   "pygments_lexer": "ipython2",
   "version": "2.7.12"
  }
 },
 "nbformat": 4,
 "nbformat_minor": 1
}
